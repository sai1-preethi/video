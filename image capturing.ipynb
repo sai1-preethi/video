{
 "cells": [
  {
   "cell_type": "code",
   "execution_count": 3,
   "id": "b94550ea-8725-4e95-b430-3b15e23c3cd2",
   "metadata": {},
   "outputs": [],
   "source": [
    "import numpy as np\n",
    "import cv2"
   ]
  },
  {
   "cell_type": "markdown",
   "id": "23de25a6-af5b-4062-8ce5-007c06737d3d",
   "metadata": {},
   "source": [
    "# Live stream"
   ]
  },
  {
   "cell_type": "code",
   "execution_count": 2,
   "id": "5c171abe-76ac-49be-b224-c2146fc83baf",
   "metadata": {},
   "outputs": [
    {
     "name": "stdout",
     "output_type": "stream",
     "text": [
      "camera not working\n"
     ]
    }
   ],
   "source": [
    "vid=cv2.VideoCapture(0)\n",
    "# id 0 --- default web camera\n",
    "\n",
    "while True:\n",
    "    suc,img=vid.read()\n",
    "\n",
    "    if suc==False:\n",
    "       print(\"camera not working\")\n",
    "       break\n",
    "\n",
    "    cv2.imshow(\"live stream\",img)\n",
    "\n",
    "    if cv2.waitKey(1) & 255 == ord(\"w\"):\n",
    "        break\n",
    "\n",
    "cv2.destroyAllWindows()"
   ]
  },
  {
   "cell_type": "markdown",
   "id": "c9c29a90-8414-42fe-a5ba-57b1c35a6ee3",
   "metadata": {},
   "source": [
    "# Live stream to gray video"
   ]
  },
  {
   "cell_type": "code",
   "execution_count": 9,
   "id": "1f18bfa7-0476-4955-8b0b-ec282e4fec87",
   "metadata": {},
   "outputs": [
    {
     "name": "stdout",
     "output_type": "stream",
     "text": [
      "camera not working\n"
     ]
    }
   ],
   "source": [
    "vid=cv2.VideoCapture(0)\n",
    "# id 0 --- default web camera\n",
    "\n",
    "while True:\n",
    "    suc,img=vid.read()\n",
    "\n",
    "    if suc==False:\n",
    "       print(\"camera not working\")\n",
    "       break\n",
    "\n",
    "    img1=cv2.cvtColor(img,cv2.COLOR_BGR2GRAY)\n",
    "    cv2.imshow(\"video_gray\",img1)\n",
    "    cv2.imshow(\"live stream\",img)\n",
    "\n",
    "    if cv2.waitKey(1) & 255 == ord(\"w\"):\n",
    "        break\n",
    "\n",
    "cv2.destroyAllWindows()"
   ]
  },
  {
   "cell_type": "markdown",
   "id": "4c0634d6-fa90-4145-8e2a-b0321c2ec5fd",
   "metadata": {},
   "source": [
    "# Live stream to BGR"
   ]
  },
  {
   "cell_type": "code",
   "execution_count": 10,
   "id": "446cb678-6353-4c99-b0b8-82dda362f622",
   "metadata": {},
   "outputs": [
    {
     "name": "stdout",
     "output_type": "stream",
     "text": [
      "camera not working\n"
     ]
    }
   ],
   "source": [
    "vid=cv2.VideoCapture(0)\n",
    "# id 0 --- default web camera\n",
    "\n",
    "while True:\n",
    "    suc,img=vid.read()\n",
    "    \n",
    "\n",
    "    if suc==False:\n",
    "       print(\"camera not working\")\n",
    "       break\n",
    "\n",
    "    b,g,r=cv2.split(img)\n",
    "    z=np.zeros(b,shape,dtype=np.uint8)\n",
    "    cv2.imshow(\"live stream1\",img)\n",
    "    cv2.imshow(\"live stream2\",cv2.merge([b,z,z]))\n",
    "    cv2.imshow(\"live stream3\",cv2.merge([z,g,z]))\n",
    "    cv2.imshow(\"live stream4\",cv2.merge([z,z,r]))\n",
    "    \n",
    "    \n",
    "\n",
    "    \n",
    "    \n",
    "    img1=cv2.cvtColor(img,cv2.COLOR_BGR2GRAY)\n",
    "    cv2.imshow(\"video_gray\",img1)\n",
    "    cv2.imshow(\"live stream\",img)\n",
    "\n",
    "    if cv2.waitKey(1) & 255 == ord(\"w\"):\n",
    "        break\n",
    "\n",
    "cv2.destroyAllWindows()"
   ]
  },
  {
   "cell_type": "code",
   "execution_count": 5,
   "id": "63ce15ec-ab01-4ce2-b7e2-f4333c1282fb",
   "metadata": {},
   "outputs": [],
   "source": [
    "import os"
   ]
  },
  {
   "cell_type": "code",
   "execution_count": 1,
   "id": "ee1020fc-27db-4016-8e73-ceb4ef5895b6",
   "metadata": {},
   "outputs": [
    {
     "ename": "NameError",
     "evalue": "name 'os' is not defined",
     "output_type": "error",
     "traceback": [
      "\u001b[1;31m---------------------------------------------------------------------------\u001b[0m",
      "\u001b[1;31mNameError\u001b[0m                                 Traceback (most recent call last)",
      "Cell \u001b[1;32mIn[1], line 1\u001b[0m\n\u001b[1;32m----> 1\u001b[0m \u001b[43mos\u001b[49m\u001b[38;5;241m.\u001b[39mmakedirs(\u001b[38;5;124mr\u001b[39m\u001b[38;5;124m\"\u001b[39m\u001b[38;5;124mC:\u001b[39m\u001b[38;5;124m\\\u001b[39m\u001b[38;5;124mUsers\u001b[39m\u001b[38;5;124m\\\u001b[39m\u001b[38;5;124mLENOVO\u001b[39m\u001b[38;5;124m\\\u001b[39m\u001b[38;5;124mDownloads\u001b[39m\u001b[38;5;124m\\\u001b[39m\u001b[38;5;124mhand_sign\u001b[39m\u001b[38;5;124m\"\u001b[39m)\n",
      "\u001b[1;31mNameError\u001b[0m: name 'os' is not defined"
     ]
    }
   ],
   "source": [
    "os.makedirs(r\"C:\\Users\\LENOVO\\Downloads\\hand_sign\")"
   ]
  },
  {
   "cell_type": "markdown",
   "id": "0f611d1b-b492-40e7-98e2-512136b8fa84",
   "metadata": {},
   "source": [
    "# Capturing Handsign"
   ]
  },
  {
   "cell_type": "code",
   "execution_count": 4,
   "id": "006dfb3a-eb9d-4a11-bbc4-8bc86ad34109",
   "metadata": {},
   "outputs": [
    {
     "ename": "NameError",
     "evalue": "name 'suc' is not defined",
     "output_type": "error",
     "traceback": [
      "\u001b[1;31m---------------------------------------------------------------------------\u001b[0m",
      "\u001b[1;31mNameError\u001b[0m                                 Traceback (most recent call last)",
      "Cell \u001b[1;32mIn[4], line 6\u001b[0m\n\u001b[0;32m      4\u001b[0m \u001b[38;5;28;01mwhile\u001b[39;00m \u001b[38;5;28;01mTrue\u001b[39;00m:\n\u001b[0;32m      5\u001b[0m     c\u001b[38;5;241m=\u001b[39m\u001b[38;5;241m0\u001b[39m\n\u001b[1;32m----> 6\u001b[0m     \u001b[43msuc\u001b[49m,img\u001b[38;5;241m==\u001b[39mvid\u001b[38;5;241m.\u001b[39mread()\n\u001b[0;32m      8\u001b[0m     \u001b[38;5;28;01mif\u001b[39;00m suc\u001b[38;5;241m==\u001b[39m\u001b[38;5;28;01mFalse\u001b[39;00m:\n\u001b[0;32m      9\u001b[0m         \u001b[38;5;28mprint\u001b[39m(\u001b[38;5;124m\"\u001b[39m\u001b[38;5;124mcamera not working\u001b[39m\u001b[38;5;124m\"\u001b[39m)\n",
      "\u001b[1;31mNameError\u001b[0m: name 'suc' is not defined"
     ]
    }
   ],
   "source": [
    "vid=cv2.VideoCapture(0)\n",
    "# id 0 --- default web camera\n",
    "\n",
    "while True:\n",
    "    c=0\n",
    "    suc,img==vid.read()\n",
    "\n",
    "    if suc==False:\n",
    "        print(\"camera not working\")\n",
    "        break\n",
    "\n",
    "    cv2.imshow(\"video\",img)\n",
    "    \n",
    "    if cv2.waitkey(1) & 255 ==ord(\"s\"):\n",
    "        cv2.imwrite(r\"C:\\Users\\LENOVO\\Downloads\\hand_sign\\{}.jpg\".format(c),img)\n",
    "        print(\"image have been captured\")\n",
    "        c+=1\n",
    "    if cv2.waitKey(1) & 255 ==ord(\"c\"):\n",
    "        break\n",
    "cv2.destroyAllWindows()      \n",
    "\n"
   ]
  },
  {
   "cell_type": "code",
   "execution_count": null,
   "id": "d4b755f4-3312-4f19-aef9-6a7f926decfa",
   "metadata": {},
   "outputs": [],
   "source": []
  }
 ],
 "metadata": {
  "kernelspec": {
   "display_name": "Python 3 (ipykernel)",
   "language": "python",
   "name": "python3"
  },
  "language_info": {
   "codemirror_mode": {
    "name": "ipython",
    "version": 3
   },
   "file_extension": ".py",
   "mimetype": "text/x-python",
   "name": "python",
   "nbconvert_exporter": "python",
   "pygments_lexer": "ipython3",
   "version": "3.12.5"
  }
 },
 "nbformat": 4,
 "nbformat_minor": 5
}
